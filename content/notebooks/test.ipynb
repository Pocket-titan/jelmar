{
 "cells": [
  {
   "cell_type": "code",
   "execution_count": 1,
   "metadata": {},
   "outputs": [],
   "source": [
    "# ---\n",
    "# date: 2024-05-29\n",
    "# excerpt: Using the SICOPOLIS model, we simulate the Greenland ice sheet under a high-emissions scenario.\n",
    "# ---"
   ]
  },
  {
   "cell_type": "markdown",
   "metadata": {},
   "source": [
    "# Title"
   ]
  },
  {
   "cell_type": "markdown",
   "metadata": {},
   "source": [
    "Nothing:\n",
    "\n",
    "<Image src=\"/images/notebooks/test/cell_output_1_1.png\" />"
   ]
  },
  {
   "cell_type": "markdown",
   "metadata": {},
   "source": [
    "Width:\n",
    "\n",
    "<Image src=\"/images/notebooks/test/cell_output_1_1.png\" width={200}/>"
   ]
  },
  {
   "cell_type": "markdown",
   "metadata": {},
   "source": [
    "Height:\n",
    "\n",
    "<Image src=\"/images/notebooks/test/cell_output_1_1.png\" height={200}/>\n"
   ]
  },
  {
   "cell_type": "markdown",
   "metadata": {},
   "source": [
    "Both:\n",
    "\n",
    "<Image src=\"/images/notebooks/test/cell_output_1_1.png\" width={200} height={200}/>\n"
   ]
  }
 ],
 "metadata": {
  "kernelspec": {
   "display_name": "Python 3",
   "language": "python",
   "name": "python3"
  },
  "language_info": {
   "codemirror_mode": {
    "name": "ipython",
    "version": 3
   },
   "file_extension": ".py",
   "mimetype": "text/x-python",
   "name": "python",
   "nbconvert_exporter": "python",
   "pygments_lexer": "ipython3",
   "version": "3.12.0"
  }
 },
 "nbformat": 4,
 "nbformat_minor": 2
}
