{
 "cells": [
  {
   "cell_type": "code",
   "execution_count": 1,
   "metadata": {},
   "outputs": [],
   "source": [
    "# ---\n",
    "# date: 2024-05-29\n",
    "# excerpt: Using the SICOPOLIS model, we simulate the Greenland ice sheet under a high-emissions scenario.\n",
    "# ---"
   ]
  },
  {
   "cell_type": "markdown",
   "metadata": {},
   "source": [
    "# Title"
   ]
  },
  {
   "cell_type": "markdown",
   "metadata": {},
   "source": [
    "## Autolink literals\n",
    "\n",
    "www.example.com, https://example.com, and contact@example.com.\n",
    "\n",
    "## Footnote\n",
    "\n",
    "A note[^1]\n",
    "\n",
    "[^1]: Big note.\n",
    "\n",
    "## Strikethrough\n",
    "\n",
    "~one~ or ~~two~~ tildes.\n",
    "\n",
    "## Table\n",
    "\n",
    "| a | b  |  c |  d  |\n",
    "| - | :- | -: | :-: |\n",
    "\n",
    "## Tasklist\n",
    "\n",
    "* [ ] to do\n",
    "* [x] done"
   ]
  }
 ],
 "metadata": {
  "kernelspec": {
   "display_name": "Python 3",
   "language": "python",
   "name": "python3"
  },
  "language_info": {
   "codemirror_mode": {
    "name": "ipython",
    "version": 3
   },
   "file_extension": ".py",
   "mimetype": "text/x-python",
   "name": "python",
   "nbconvert_exporter": "python",
   "pygments_lexer": "ipython3",
   "version": "3.12.0"
  }
 },
 "nbformat": 4,
 "nbformat_minor": 2
}
